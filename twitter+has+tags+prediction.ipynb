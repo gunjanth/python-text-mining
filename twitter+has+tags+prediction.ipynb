{
 "cells": [
  {
   "cell_type": "code",
   "execution_count": 1,
   "metadata": {
    "collapsed": true
   },
   "outputs": [],
   "source": [
    "#import necessary libraries \n",
    "import pandas as pd\n",
    "import numpy as np\n",
    "import twython\n",
    "import itertools\n",
    "from itertools import combinations\n",
    "from twython import Twython\n",
    "import string"
   ]
  },
  {
   "cell_type": "code",
   "execution_count": 2,
   "metadata": {
    "collapsed": true
   },
   "outputs": [],
   "source": [
    "#Fetching tweets using Twyton for particular hash tags id given in the data set attached \n",
    "# need to create your own twitter id for fectching the tweets using the beloww\n",
    "twitter = Twython(\n",
    "\n",
    "    'vv3A6qBhIggsBB9mQW7WiFC7M', 'mxwxmMuTexwORxPT3YWJtx0mDuSFtZy6YsYJdUIyjireFumjFY',\n",
    "\n",
    "    '2894451055-7IG33DjAAKswedvumGyCNMxlPVh1XvuzE8BlvOP', 'UJt2PLY2opW9XxyUHB55mGfINahLL5M1dbpXNhVma3DfT')"
   ]
  },
  {
   "cell_type": "code",
   "execution_count": 12,
   "metadata": {
    "collapsed": false
   },
   "outputs": [],
   "source": [
    "# import the csv file containg Id and hash Tags and craeate a dummy data frame as newDF\n",
    "df = pd.read_csv('D://Projects//Gunjan//dataset//dataset/train_data.csv', names=['ID', 'Hash_Tags'],dtype={'Hash_Tags' : 'category'})\n",
    "newDF = pd.DataFrame(columns=['ID','Hash_Tags','Tweets'])"
   ]
  },
  {
   "cell_type": "code",
   "execution_count": 13,
   "metadata": {
    "collapsed": false
   },
   "outputs": [
    {
     "data": {
      "text/html": [
       "<div>\n",
       "<table border=\"1\" class=\"dataframe\">\n",
       "  <thead>\n",
       "    <tr style=\"text-align: right;\">\n",
       "      <th></th>\n",
       "      <th>ID</th>\n",
       "      <th>Hash_Tags</th>\n",
       "    </tr>\n",
       "  </thead>\n",
       "  <tbody>\n",
       "    <tr>\n",
       "      <th>0</th>\n",
       "      <td>564818124352917505</td>\n",
       "      <td>#shamitabh</td>\n",
       "    </tr>\n",
       "    <tr>\n",
       "      <th>1</th>\n",
       "      <td>728820161789214720</td>\n",
       "      <td>NIL</td>\n",
       "    </tr>\n",
       "    <tr>\n",
       "      <th>2</th>\n",
       "      <td>722811421663367168</td>\n",
       "      <td>NIL</td>\n",
       "    </tr>\n",
       "    <tr>\n",
       "      <th>3</th>\n",
       "      <td>565061873448390656</td>\n",
       "      <td>#aapsweep</td>\n",
       "    </tr>\n",
       "    <tr>\n",
       "      <th>4</th>\n",
       "      <td>567360176127107072</td>\n",
       "      <td>NIL</td>\n",
       "    </tr>\n",
       "  </tbody>\n",
       "</table>\n",
       "</div>"
      ],
      "text/plain": [
       "                   ID   Hash_Tags\n",
       "0  564818124352917505  #shamitabh\n",
       "1  728820161789214720         NIL\n",
       "2  722811421663367168         NIL\n",
       "3  565061873448390656   #aapsweep\n",
       "4  567360176127107072         NIL"
      ]
     },
     "execution_count": 13,
     "metadata": {},
     "output_type": "execute_result"
    }
   ],
   "source": [
    "df.head()"
   ]
  },
  {
   "cell_type": "code",
   "execution_count": 14,
   "metadata": {
    "collapsed": false
   },
   "outputs": [],
   "source": [
    "# for subsetting based on rows say 1000 top rows as u can handle not more than 100o tweets approximately at a time\n",
    "df = df.ix[1:1000]\n",
    "#df.tail()"
   ]
  },
  {
   "cell_type": "code",
   "execution_count": 15,
   "metadata": {
    "collapsed": false
   },
   "outputs": [],
   "source": [
    "#For combing the fetched tweets with dataframe df containg Id And Hashtags \n",
    "for index, row in df.iterrows():\n",
    "\n",
    "    try:\n",
    "\n",
    "        tweet = twitter.show_status(id=row['ID'])\n",
    "\n",
    "        newDF.set_value(index,'ID',row['ID'])\n",
    "\n",
    "        newDF.set_value(index,'Hash_Tags',row['Hash_Tags'])\n",
    "\n",
    "        newDF.set_value(index,'Tweets',tweet['text'])\n",
    "\n",
    "    except Exception:\n",
    "\n",
    "        pass\n",
    "\n",
    "    \n"
   ]
  },
  {
   "cell_type": "code",
   "execution_count": 16,
   "metadata": {
    "collapsed": false
   },
   "outputs": [
    {
     "data": {
      "text/html": [
       "<div>\n",
       "<table border=\"1\" class=\"dataframe\">\n",
       "  <thead>\n",
       "    <tr style=\"text-align: right;\">\n",
       "      <th></th>\n",
       "      <th>ID</th>\n",
       "      <th>Hash_Tags</th>\n",
       "      <th>Tweets</th>\n",
       "    </tr>\n",
       "  </thead>\n",
       "  <tbody>\n",
       "    <tr>\n",
       "      <th>1</th>\n",
       "      <td>728820161789214720</td>\n",
       "      <td>NIL</td>\n",
       "      <td>Karma is a bitch😎</td>\n",
       "    </tr>\n",
       "    <tr>\n",
       "      <th>2</th>\n",
       "      <td>722811421663367168</td>\n",
       "      <td>NIL</td>\n",
       "      <td>RT @NigamAmbika: @bhardwaj_kamini @_KaranMehra...</td>\n",
       "    </tr>\n",
       "    <tr>\n",
       "      <th>3</th>\n",
       "      <td>565061873448390656</td>\n",
       "      <td>#aapsweep</td>\n",
       "      <td>RT @rajatub: Resounding AAP victory reminds me...</td>\n",
       "    </tr>\n",
       "    <tr>\n",
       "      <th>4</th>\n",
       "      <td>567360176127107072</td>\n",
       "      <td>NIL</td>\n",
       "      <td>RT @ohmnamahshiva: @rmburra24 ohm namah shivay...</td>\n",
       "    </tr>\n",
       "    <tr>\n",
       "      <th>5</th>\n",
       "      <td>707550604516691968</td>\n",
       "      <td>#jnu</td>\n",
       "      <td>RT @ABVPVoice: Akhil Bhartiya Vidyarthi Parish...</td>\n",
       "    </tr>\n",
       "  </tbody>\n",
       "</table>\n",
       "</div>"
      ],
      "text/plain": [
       "                   ID  Hash_Tags  \\\n",
       "1  728820161789214720        NIL   \n",
       "2  722811421663367168        NIL   \n",
       "3  565061873448390656  #aapsweep   \n",
       "4  567360176127107072        NIL   \n",
       "5  707550604516691968       #jnu   \n",
       "\n",
       "                                              Tweets  \n",
       "1                                 Karma is a bitch😎  \n",
       "2  RT @NigamAmbika: @bhardwaj_kamini @_KaranMehra...  \n",
       "3  RT @rajatub: Resounding AAP victory reminds me...  \n",
       "4  RT @ohmnamahshiva: @rmburra24 ohm namah shivay...  \n",
       "5  RT @ABVPVoice: Akhil Bhartiya Vidyarthi Parish...  "
      ]
     },
     "execution_count": 16,
     "metadata": {},
     "output_type": "execute_result"
    }
   ],
   "source": [
    "# the new dataframe newDF \n",
    "newDF.head()"
   ]
  },
  {
   "cell_type": "code",
   "execution_count": 17,
   "metadata": {
    "collapsed": false
   },
   "outputs": [
    {
     "data": {
      "text/plain": [
       "(863, 3)"
      ]
     },
     "execution_count": 17,
     "metadata": {},
     "output_type": "execute_result"
    }
   ],
   "source": [
    "#newDF.Hash_Tags.unique()\n",
    "newDF.shape"
   ]
  },
  {
   "cell_type": "code",
   "execution_count": 18,
   "metadata": {
    "collapsed": false
   },
   "outputs": [
    {
     "data": {
      "text/plain": [
       "NIL                353\n",
       "#indvssa           251\n",
       "#railbudget2015     84\n",
       "#netneutrality      72\n",
       "#aapsweep           43\n",
       "#blockbustermsg     21\n",
       "#shamitabh          18\n",
       "#jnu                12\n",
       "#rahulonleave        6\n",
       "#mahashivratri       3\n",
       "Name: Hash_Tags, dtype: int64"
      ]
     },
     "execution_count": 18,
     "metadata": {},
     "output_type": "execute_result"
    }
   ],
   "source": [
    "#finding the unique hash tags category\n",
    "newDF['Hash_Tags'].value_counts()"
   ]
  },
  {
   "cell_type": "code",
   "execution_count": 19,
   "metadata": {
    "collapsed": false
   },
   "outputs": [],
   "source": [
    "#removing rows with null values\n",
    "newDFF = newDF[newDF.Hash_Tags != 'NIL']"
   ]
  },
  {
   "cell_type": "code",
   "execution_count": 20,
   "metadata": {
    "collapsed": false
   },
   "outputs": [
    {
     "data": {
      "text/plain": [
       "ID           0\n",
       "Hash_Tags    0\n",
       "Tweets       0\n",
       "dtype: int64"
      ]
     },
     "execution_count": 20,
     "metadata": {},
     "output_type": "execute_result"
    }
   ],
   "source": [
    "newDFF.isnull().sum()"
   ]
  },
  {
   "cell_type": "code",
   "execution_count": 21,
   "metadata": {
    "collapsed": false
   },
   "outputs": [],
   "source": [
    "import nltk\n",
    "#nltk.download('all')\n",
    "from nltk.corpus import stopwords\n",
    "stop = stopwords.words('english')"
   ]
  },
  {
   "cell_type": "code",
   "execution_count": 3,
   "metadata": {
    "collapsed": false
   },
   "outputs": [],
   "source": [
    "# # removing stopwords ,converting to lowercase ,removing punctuation and other necessary pre processing \n",
    "# newDFF['Tweets'] = newDFF['Tweets'].str.lower()\n",
    "# newDFF['cleaned'] = newDFF['Tweets'].apply(lambda x:''.join([i for i in x if i not in string.punctuation]))\n",
    "# newDFF['cleaned'] = newDFF['cleaned'].str.replace('\\d+', '')\n",
    "# newDFF['cleaned'] = newDFF['cleaned'].map(lambda x: x.strip(''))\n",
    "# newDFF['cleaned'].apply(lambda x: [item for item in x if item not in stop])"
   ]
  },
  {
   "cell_type": "code",
   "execution_count": 59,
   "metadata": {
    "collapsed": false
   },
   "outputs": [
    {
     "name": "stdout",
     "output_type": "stream",
     "text": [
      "5     rt @abvpvoice: akhil bhartiya vidyarthi parish...\n",
      "8                       run-out chance miss :( #indvssa\n",
      "9     hey @marcorubio @repedwhitfield, richard r. of...\n",
      "12    hey @senronjohnson @michaelcburgess, d'arcy g....\n",
      "13    explaining how cricket works to a german. omg!...\n",
      "17    namah parvati pate har har mahadev #mahashivratri\n",
      "21    guruji has done a wonderful job to eradicate s...\n",
      "24    hey @peteolson @repjoebarton, paul k. of wv se...\n",
      "27    @hannelislabber we are indians 😎 \\nthe show i...\n",
      "Name: Tweets, dtype: object\n",
      "5     rt abvpvoice akhil bhartiya vidyarthi parishad...\n",
      "8                           runout chance miss  indvssa\n",
      "9     hey marcorubio repedwhitfield richard r of me ...\n",
      "12    hey senronjohnson michaelcburgess darcy g of n...\n",
      "13    explaining how cricket works to a german omg\\n...\n",
      "17     namah parvati pate har har mahadev mahashivratri\n",
      "21    guruji has done a wonderful job to eradicate s...\n",
      "24    hey peteolson repjoebarton paul k of wv sez fr...\n",
      "27    hannelislabber we are indians 😎 \\nthe show is...\n",
      "Name: cleaned, dtype: object\n"
     ]
    }
   ],
   "source": [
    "print(newDFF.Tweets[1:10])\n",
    "print(newDFF.cleaned[1:10])"
   ]
  },
  {
   "cell_type": "code",
   "execution_count": 39,
   "metadata": {
    "collapsed": false
   },
   "outputs": [
    {
     "data": {
      "text/plain": [
       "<678x2652 sparse matrix of type '<type 'numpy.int64'>'\n",
       "\twith 8670 stored elements in Compressed Sparse Row format>"
      ]
     },
     "execution_count": 39,
     "metadata": {},
     "output_type": "execute_result"
    }
   ],
   "source": [
    "#  creating teh term document frequency matrix\n",
    "from sklearn.feature_extraction.text import CountVectorizer\n",
    "countvec = CountVectorizer()\n",
    "countvec.fit_transform(newDFF['cleaned'])\n",
    "pd.DataFrame(countvec.fit_transform(newDFF['cleaned']).toarray(), columns=countvec.get_feature_names())\n"
   ]
  },
  {
   "cell_type": "code",
   "execution_count": 43,
   "metadata": {
    "collapsed": false
   },
   "outputs": [
    {
     "data": {
      "text/html": [
       "<div>\n",
       "<table border=\"1\" class=\"dataframe\">\n",
       "  <thead>\n",
       "    <tr style=\"text-align: right;\">\n",
       "      <th></th>\n",
       "      <th>ID</th>\n",
       "      <th>Unnamed 0</th>\n",
       "      <th>Tweets</th>\n",
       "    </tr>\n",
       "  </thead>\n",
       "  <tbody>\n",
       "    <tr>\n",
       "      <th>3</th>\n",
       "      <td>565061873448390656</td>\n",
       "      <td>5</td>\n",
       "      <td>rt @rajatub: resounding aap victory reminds me...</td>\n",
       "    </tr>\n",
       "    <tr>\n",
       "      <th>5</th>\n",
       "      <td>707550604516691968</td>\n",
       "      <td>2</td>\n",
       "      <td>rt @abvpvoice: akhil bhartiya vidyarthi parish...</td>\n",
       "    </tr>\n",
       "    <tr>\n",
       "      <th>8</th>\n",
       "      <td>569415946906898432</td>\n",
       "      <td>5</td>\n",
       "      <td>run-out chance miss :( #indvssa</td>\n",
       "    </tr>\n",
       "    <tr>\n",
       "      <th>9</th>\n",
       "      <td>706757802421788673</td>\n",
       "      <td>2</td>\n",
       "      <td>hey @marcorubio @repedwhitfield, richard r. of...</td>\n",
       "    </tr>\n",
       "    <tr>\n",
       "      <th>12</th>\n",
       "      <td>709422593418403840</td>\n",
       "      <td>5</td>\n",
       "      <td>hey @senronjohnson @michaelcburgess, d'arcy g....</td>\n",
       "    </tr>\n",
       "  </tbody>\n",
       "</table>\n",
       "</div>"
      ],
      "text/plain": [
       "                    ID Unnamed 0  \\\n",
       "3   565061873448390656         5   \n",
       "5   707550604516691968         2   \n",
       "8   569415946906898432         5   \n",
       "9   706757802421788673         2   \n",
       "12  709422593418403840         5   \n",
       "\n",
       "                                               Tweets  \n",
       "3   rt @rajatub: resounding aap victory reminds me...  \n",
       "5   rt @abvpvoice: akhil bhartiya vidyarthi parish...  \n",
       "8                     run-out chance miss :( #indvssa  \n",
       "9   hey @marcorubio @repedwhitfield, richard r. of...  \n",
       "12  hey @senronjohnson @michaelcburgess, d'arcy g....  "
      ]
     },
     "execution_count": 43,
     "metadata": {},
     "output_type": "execute_result"
    }
   ],
   "source": [
    "# doing the necessary hot encoding as is necessary for using ML algorithms in python\n",
    "from sklearn import preprocessing\n",
    "# Initialize label encoder\n",
    "label_encoder = preprocessing.LabelEncoder()\n",
    "# Convert marital variable to numeric\n",
    "encoded_tags = label_encoder.fit_transform(newDFF['Hash_Tags'])\n",
    "\n",
    "final = pd.DataFrame([newDFF['ID'], encoded_tags, newDFF['Tweets']]).T\n",
    "final.head()\n",
    "\n"
   ]
  },
  {
   "cell_type": "code",
   "execution_count": null,
   "metadata": {
    "collapsed": true
   },
   "outputs": [],
   "source": [
    "# dpoing the encoding manually to know which category is assigned what values\n",
    "newDFF['Hash_Tags'].replace(0, '#indvssa ',inplace=True)\n",
    "newDFF['Hash_Tags'].replace(1, '#railbudget2015 ',inplace=True)\n",
    "newDFF['Hash_Tags'].replace(2, '#netneutrality  ',inplace=True)\n",
    "newDFF['Hash_Tags'].replace(3, '#aapsweep',inplace=True)\n",
    "newDFF['Hash_Tags'].replace(4, '#blockbustermsg',inplace=True)\n",
    "newDFF['Hash_Tags'].replace(5, '#shamitabh',inplace=True)\n",
    "newDFF['Hash_Tags'].replace(6, '#jnu ',inplace=True)\n",
    "newDFF['Hash_Tags'].replace(7, '#rahulonleave',inplace=True)\n",
    "newDFF['Hash_Tags'].replace(8, '#mahashivratri  ',inplace=True)\n",
    "\n",
    " "
   ]
  },
  {
   "cell_type": "code",
   "execution_count": null,
   "metadata": {
    "collapsed": true
   },
   "outputs": [],
   "source": [
    "# svm Model Building \n",
    "model = svm.svc(kernel='linear', c=1, gamma=1)"
   ]
  },
  {
   "cell_type": "code",
   "execution_count": null,
   "metadata": {
    "collapsed": true
   },
   "outputs": [],
   "source": [
    "# here X will newDFF without the hastags column ,y is the hastag column of newDFF,X_test is the test data\n",
    "model.fit(X, y)\n",
    "model.score(X, y)\n",
    "predicted= model.predict(x_test)"
   ]
  }
 ],
 "metadata": {
  "kernelspec": {
   "display_name": "Python 2",
   "language": "python",
   "name": "python2"
  },
  "language_info": {
   "codemirror_mode": {
    "name": "ipython",
    "version": 2
   },
   "file_extension": ".py",
   "mimetype": "text/x-python",
   "name": "python",
   "nbconvert_exporter": "python",
   "pygments_lexer": "ipython2",
   "version": "2.7.13"
  }
 },
 "nbformat": 4,
 "nbformat_minor": 2
}
